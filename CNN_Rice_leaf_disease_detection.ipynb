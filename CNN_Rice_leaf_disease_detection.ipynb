{
  "nbformat": 4,
  "nbformat_minor": 0,
  "metadata": {
    "colab": {
      "provenance": [],
      "mount_file_id": "1iDaocO28oJ1BhCgV_WKGvx_NezeB6NFB",
      "authorship_tag": "ABX9TyOaKTbQFiwORZRz0vz+mSHy",
      "include_colab_link": true
    },
    "kernelspec": {
      "name": "python3",
      "display_name": "Python 3"
    },
    "language_info": {
      "name": "python"
    }
  },
  "cells": [
    {
      "cell_type": "markdown",
      "metadata": {
        "id": "view-in-github",
        "colab_type": "text"
      },
      "source": [
        "<a href=\"https://colab.research.google.com/github/Navin7899/CNN-RiceLeaf-disease-detection/blob/main/CNN_Rice_leaf_disease_detection.ipynb\" target=\"_parent\"><img src=\"https://colab.research.google.com/assets/colab-badge.svg\" alt=\"Open In Colab\"/></a>"
      ]
    },
    {
      "cell_type": "code",
      "source": [
        "import tensorflow as tf\n",
        "\n",
        "import pandas as pd\n",
        "import numpy as np\n",
        "import os\n",
        "\n",
        "import cv2\n",
        "\n",
        "\n",
        "\n",
        "from sklearn.model_selection import train_test_split\n",
        "from sklearn.utils import shuffle\n",
        "\n",
        "from sklearn.metrics import confusion_matrix\n",
        "import itertools\n",
        "from sklearn.metrics import classification_report\n",
        "\n",
        "import shutil\n",
        "\n",
        "import matplotlib.pyplot as plt\n",
        "%matplotlib inline"
      ],
      "metadata": {
        "id": "R3GZFCBI0BRw"
      },
      "execution_count": 35,
      "outputs": []
    },
    {
      "cell_type": "code",
      "source": [
        "IMAGE_HEIGHT = 224\n",
        "IMAGE_WIDTH = 224\n",
        "IMAGE_CHANNELS = 3"
      ],
      "metadata": {
        "id": "8ADmZjvJ8bxf"
      },
      "execution_count": 36,
      "outputs": []
    },
    {
      "cell_type": "code",
      "source": [
        "os.listdir('/content/drive/MyDrive/internship/Data')"
      ],
      "metadata": {
        "colab": {
          "base_uri": "https://localhost:8080/"
        },
        "id": "LOyloz3_8rrw",
        "outputId": "88f62342-35d8-4e28-ffc5-eeff50c6e7a6"
      },
      "execution_count": 40,
      "outputs": [
        {
          "output_type": "execute_result",
          "data": {
            "text/plain": [
              "['Brown spot-20200814T055208Z-001.zip',\n",
              " 'Leaf smut-20200814T055530Z-001.zip',\n",
              " 'Bacterial leaf blight-20200814T055237Z-001.zip',\n",
              " 'Bacterial leaf blight',\n",
              " 'Brown spot',\n",
              " 'Leaf smut']"
            ]
          },
          "metadata": {},
          "execution_count": 40
        }
      ]
    },
    {
      "cell_type": "code",
      "source": [
        "def plot_confusion_matrix(cm, classes,\n",
        "                          normalize=False,\n",
        "                          title='Confusion matrix',\n",
        "                          cmap=plt.cm.Blues):\n",
        "    \"\"\"\n",
        "    This function prints and plots the confusion matrix.\n",
        "    Normalization can be applied by setting `normalize=True`.\n",
        "    \"\"\"\n",
        "    if normalize:\n",
        "        cm = cm.astype('float') / cm.sum(axis=1)[:, np.newaxis]\n",
        "        print(\"Normalized confusion matrix\")\n",
        "    else:\n",
        "        print('Confusion matrix, without normalization')\n",
        "\n",
        "    print(cm)\n",
        "\n",
        "    plt.imshow(cm, interpolation='nearest', cmap=cmap)\n",
        "    plt.title(title)\n",
        "    plt.colorbar()\n",
        "    tick_marks = np.arange(len(classes))\n",
        "    plt.xticks(tick_marks, classes, rotation=45)\n",
        "    plt.yticks(tick_marks, classes)\n",
        "\n",
        "    fmt = '.2f' if normalize else 'd'\n",
        "    thresh = cm.max() / 2.\n",
        "    for i, j in itertools.product(range(cm.shape[0]), range(cm.shape[1])):\n",
        "        plt.text(j, i, format(cm[i, j], fmt),\n",
        "                 horizontalalignment=\"center\",\n",
        "                 color=\"white\" if cm[i, j] > thresh else \"black\")\n",
        "\n",
        "    plt.ylabel('True label')\n",
        "    plt.xlabel('Predicted label')\n",
        "    plt.tight_layout()"
      ],
      "metadata": {
        "id": "eF4K8NUt9hgV"
      },
      "execution_count": 41,
      "outputs": []
    },
    {
      "cell_type": "code",
      "source": [
        "leaf_smut_list = \\\n",
        "os.listdir('/content/drive/MyDrive/internship/Data/Leaf smut')\n",
        "brown_spot_list = \\\n",
        "os.listdir('/content/drive/MyDrive/internship/Data/Brown spot')\n",
        "bacterial_leaf_blight_list = \\\n",
        "os.listdir('/content/drive/MyDrive/internship/Data/Bacterial leaf blight')\n",
        "\n",
        "print(len(leaf_smut_list))\n",
        "print(len(brown_spot_list))\n",
        "print(len(bacterial_leaf_blight_list))"
      ],
      "metadata": {
        "colab": {
          "base_uri": "https://localhost:8080/"
        },
        "id": "rPtqR5Kk-Akh",
        "outputId": "36dcefd3-0132-4516-deaf-c95df24d0789"
      },
      "execution_count": 47,
      "outputs": [
        {
          "output_type": "stream",
          "name": "stdout",
          "text": [
            "39\n",
            "40\n",
            "40\n"
          ]
        }
      ]
    },
    {
      "cell_type": "code",
      "source": [
        "df_leaf_smut = pd.DataFrame(leaf_smut_list, columns=['image'])\n",
        "df_leaf_smut['target'] = 'leaf_smut'\n",
        "\n",
        "df_brown_spot = pd.DataFrame(brown_spot_list, columns=['image'])\n",
        "df_brown_spot['target'] = 'brown_spot'\n",
        "\n",
        "df_bacterial_leaf_blight = pd.DataFrame(bacterial_leaf_blight_list, columns=['image'])\n",
        "df_bacterial_leaf_blight['target'] = 'bacterial_leaf_blight'\n",
        "\n",
        "\n",
        "# Create a val set for each class\n",
        "\n",
        "# Sample 5 validation images from each class\n",
        "df_leaf_smut_val = df_leaf_smut.sample(n=6, random_state=101)\n",
        "df_brown_spot_val = df_brown_spot.sample(n=6, random_state=101)\n",
        "df_bacterial_leaf_blight_val = df_bacterial_leaf_blight.sample(n=6, random_state=101)\n",
        "\n",
        "\n",
        "print(len(df_leaf_smut_val))\n",
        "print(len(df_brown_spot_val))\n",
        "print(len(df_bacterial_leaf_blight_val))"
      ],
      "metadata": {
        "colab": {
          "base_uri": "https://localhost:8080/"
        },
        "id": "ArysWaQH-gpb",
        "outputId": "92dca9dd-3f56-4833-ae8c-88dc735a9c68"
      },
      "execution_count": 48,
      "outputs": [
        {
          "output_type": "stream",
          "name": "stdout",
          "text": [
            "6\n",
            "6\n",
            "6\n"
          ]
        }
      ]
    },
    {
      "cell_type": "code",
      "source": [
        "# Create the train set for each class\n",
        "\n",
        "# leaf_smut\n",
        "# get a list of val images\n",
        "val1_list = list(df_leaf_smut_val['image'])\n",
        "# filter out the val images\n",
        "df_leaf_smut_train = df_leaf_smut[~df_leaf_smut['image'].isin(val1_list)] # ~ means notin\n",
        "\n",
        "# brown_spot\n",
        "# get a list of val images\n",
        "val2_list = list(df_brown_spot_val['image'])\n",
        "# filter out the val images\n",
        "df_brown_spot_train = df_brown_spot[~df_brown_spot['image'].isin(val2_list)] # ~ means notin\n",
        "\n",
        "# bacterial_leaf_blight\n",
        "# get a list of val images\n",
        "val3_list = list(df_bacterial_leaf_blight_val['image'])\n",
        "# filter out the val images\n",
        "df_bacterial_leaf_blight_train = \\\n",
        "df_bacterial_leaf_blight[~df_bacterial_leaf_blight['image'].isin(val3_list)] # ~ means notin\n",
        "\n",
        "\n",
        "\n",
        "print(len(df_leaf_smut_train))\n",
        "print(len(df_brown_spot_train))\n",
        "print(len(df_bacterial_leaf_blight_train))"
      ],
      "metadata": {
        "colab": {
          "base_uri": "https://localhost:8080/"
        },
        "id": "kmEL2MKC-nQH",
        "outputId": "5a905b10-770f-484b-8d2f-aeaae38cea87"
      },
      "execution_count": 50,
      "outputs": [
        {
          "output_type": "stream",
          "name": "stdout",
          "text": [
            "33\n",
            "34\n",
            "34\n"
          ]
        }
      ]
    },
    {
      "cell_type": "code",
      "source": [
        "# Create df_data, df_train and df_val\n",
        "\n",
        "df_data = pd.concat([df_leaf_smut, df_brown_spot, df_bacterial_leaf_blight], axis=0).reset_index(drop=True)\n",
        "\n",
        "df_train = \\\n",
        "pd.concat([df_leaf_smut_train, df_brown_spot_train, df_bacterial_leaf_blight_train], axis=0).reset_index(drop=True)\n",
        "\n",
        "df_val = \\\n",
        "pd.concat([df_leaf_smut_val, df_brown_spot_val, df_bacterial_leaf_blight_val], axis=0).reset_index(drop=True)\n",
        "\n",
        "df_data = shuffle(df_data)\n",
        "df_train = shuffle(df_train)\n",
        "df_val = shuffle(df_val)\n",
        "\n",
        "print(df_data.shape)\n",
        "print(df_train.shape)\n",
        "print(df_val.shape)"
      ],
      "metadata": {
        "colab": {
          "base_uri": "https://localhost:8080/"
        },
        "id": "pVUthqkH-tDu",
        "outputId": "bab11a55-4887-4b91-c8fc-af93448ad642"
      },
      "execution_count": 51,
      "outputs": [
        {
          "output_type": "stream",
          "name": "stdout",
          "text": [
            "(119, 2)\n",
            "(101, 2)\n",
            "(18, 2)\n"
          ]
        }
      ]
    },
    {
      "cell_type": "code",
      "source": [
        "df_data['target'].value_counts()"
      ],
      "metadata": {
        "colab": {
          "base_uri": "https://localhost:8080/"
        },
        "id": "AtCdWsPv-1ON",
        "outputId": "68d410ba-197e-4ec7-d69e-0516b46bbf2b"
      },
      "execution_count": 52,
      "outputs": [
        {
          "output_type": "execute_result",
          "data": {
            "text/plain": [
              "brown_spot               40\n",
              "bacterial_leaf_blight    40\n",
              "leaf_smut                39\n",
              "Name: target, dtype: int64"
            ]
          },
          "metadata": {},
          "execution_count": 52
        }
      ]
    },
    {
      "cell_type": "code",
      "source": [
        "df_train['target'].value_counts()"
      ],
      "metadata": {
        "colab": {
          "base_uri": "https://localhost:8080/"
        },
        "id": "VwTIYdL9A5sl",
        "outputId": "d52a8510-e383-4080-af1d-e0a95def758f"
      },
      "execution_count": 53,
      "outputs": [
        {
          "output_type": "execute_result",
          "data": {
            "text/plain": [
              "brown_spot               34\n",
              "bacterial_leaf_blight    34\n",
              "leaf_smut                33\n",
              "Name: target, dtype: int64"
            ]
          },
          "metadata": {},
          "execution_count": 53
        }
      ]
    },
    {
      "cell_type": "code",
      "source": [
        "df_val['target'].value_counts()"
      ],
      "metadata": {
        "colab": {
          "base_uri": "https://localhost:8080/"
        },
        "id": "okUcTvu2CPLb",
        "outputId": "f87f3b78-2018-424f-85c8-a63e7516c977"
      },
      "execution_count": 54,
      "outputs": [
        {
          "output_type": "execute_result",
          "data": {
            "text/plain": [
              "bacterial_leaf_blight    6\n",
              "leaf_smut                6\n",
              "brown_spot               6\n",
              "Name: target, dtype: int64"
            ]
          },
          "metadata": {},
          "execution_count": 54
        }
      ]
    },
    {
      "cell_type": "code",
      "source": [
        "# Create the target as index values\n",
        "\n",
        "# combine val, train and test\n",
        "val_len = len(df_val)\n",
        "train_len = len(df_train)\n",
        "df_combined =  pd.concat(objs=[df_val, df_train], axis=0).reset_index(drop=True)\n",
        "\n",
        "# create the dummy variables\n",
        "df_combined = pd.get_dummies(df_combined, columns=['target'])\n",
        "\n",
        "# separate the train and val sets\n",
        "df_val = df_combined[:val_len]\n",
        "df_train = df_combined[val_len:]\n",
        "\n",
        "\n",
        "print(df_train.shape)\n",
        "print(df_val.shape)"
      ],
      "metadata": {
        "colab": {
          "base_uri": "https://localhost:8080/"
        },
        "id": "AQy4IAVlCVFx",
        "outputId": "6fa505e0-965d-4e53-e59b-1fe6a2b08d94"
      },
      "execution_count": 55,
      "outputs": [
        {
          "output_type": "stream",
          "name": "stdout",
          "text": [
            "(101, 4)\n",
            "(18, 4)\n"
          ]
        }
      ]
    },
    {
      "cell_type": "code",
      "source": [],
      "metadata": {
        "id": "jvbyIYSkCiiD"
      },
      "execution_count": null,
      "outputs": []
    }
  ]
}